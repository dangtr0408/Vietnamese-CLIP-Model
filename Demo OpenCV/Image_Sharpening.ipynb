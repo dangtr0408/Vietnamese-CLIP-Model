{
 "cells": [
  {
   "cell_type": "code",
   "execution_count": 4,
   "id": "684ab620",
   "metadata": {},
   "outputs": [],
   "source": [
    "import cv2 as cv\n",
    "import numpy as np\n",
    "import matplotlib.pyplot as plt"
   ]
  },
  {
   "cell_type": "code",
   "execution_count": 6,
   "id": "ebac522a",
   "metadata": {},
   "outputs": [],
   "source": [
    "src = cv.imread(\"test.jpg\")\n",
    "cv.namedWindow(\"input\", cv.WINDOW_AUTOSIZE)\n",
    "cv.imshow(\"input\", src)\n",
    "# sharpen_op = np.array([[-1, -1, -1], [-1, 9, -1], [-1, -1, -1]], dtype=np.float32)\n",
    "sharpen_op = np.array([[0, -1, 0], [-1, 5, -1], [0, -1, 0]], dtype=np.float32)\n",
    "sharpen_image = cv.filter2D(src, cv.CV_32F, sharpen_op)\n",
    "sharpen_image = cv.convertScaleAbs(sharpen_image)\n",
    "cv.imshow(\"sharpen_image\", sharpen_image)\n",
    "h, w = src.shape[:2]\n",
    "result = np.zeros([h, w*2, 3], dtype=src.dtype)\n",
    "result[0:h,0:w,:] = src\n",
    "result[0:h,w:2*w,:] = sharpen_image\n",
    "cv.putText(result, \"original image\", (10, 30), cv.FONT_ITALIC, 1.0, (0, 0, 255), 2)\n",
    "cv.putText(result, \"sharpen image\", (w+10, 30), cv.FONT_ITALIC, 1.0, (0, 0, 255), 2)\n",
    "cv.imshow(\"sharpen_image\", result)\n",
    "cv.imwrite(\"./result.png\", result)\n",
    "cv.waitKey(0)\n",
    "cv.destroyAllWindows()"
   ]
  },
  {
   "cell_type": "code",
   "execution_count": null,
   "id": "3bec6a82",
   "metadata": {},
   "outputs": [],
   "source": []
  }
 ],
 "metadata": {
  "kernelspec": {
   "display_name": "Python 3 (ipykernel)",
   "language": "python",
   "name": "python3"
  },
  "language_info": {
   "codemirror_mode": {
    "name": "ipython",
    "version": 3
   },
   "file_extension": ".py",
   "mimetype": "text/x-python",
   "name": "python",
   "nbconvert_exporter": "python",
   "pygments_lexer": "ipython3",
   "version": "3.10.9"
  }
 },
 "nbformat": 4,
 "nbformat_minor": 5
}
